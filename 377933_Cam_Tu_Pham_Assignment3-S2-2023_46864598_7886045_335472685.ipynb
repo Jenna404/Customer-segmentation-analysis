{
 "cells": [
  {
   "cell_type": "markdown",
   "metadata": {},
   "source": [
    "# Programming Task 3  \n",
    "\n",
    "**Assignment Points**: 100    \n",
    "**Due Date**: Friday of Week 11 at 11:59pm   \n",
    "\n",
    "\n"
   ]
  },
  {
   "cell_type": "markdown",
   "metadata": {},
   "source": [
    "---\n",
    "\n",
    "## About This Assignment\n",
    "Customer segmentation is the process of dividing customers into groups based on common characteristics so companies can market to each group effectively and appropriately. It can be employed by all types of business, regardless of size, industry and whether they sell online or in person. For example, a small business selling guitars might decide to promote lower-priced products to younger guitarists and higher-priced premium guitars to older musicians based on segment knowledge which tells them that younger musicians have less disposable income than their older counterparts.  \n",
    "\n",
    "<hr style=\"width:35%;margin-left:0;\"> \n",
    "\n",
    "## Task\n",
    "You are employed by a large supermarket chain to perform customer segmentation analysis. In particular, you are provided with a dataset on 2000 customers that has been collected through loyalty cards that customers use at checkout, and includes variables such as customer age, gender, annual income, etc. \n",
    "\n",
    "Your task is to analyse the data in Python using relevant techniques covered in lectures, and identify customer segments given the dataset. You will then collect your results in tables and diagrams which you will include in a report of **up to 1000 words** (not counting tables and figures). Make sure your report is informative, intuitive, and easy to understand by the management, who may not have technical expertise. \n",
    "\n",
    "Your report should include the following headings:\n",
    "\n",
    "1. **Introduction** (10 marks)\n",
    "    - Motivate the problem and what you are trying to accomplish in this report\n",
    "2. **Exploratory Data Analysis** (20 marks)\n",
    "    - Perform basic exploratory data analysis, present and comment on summary statistics, etc.\n",
    "    - Provide charts where appropriate\n",
    "3. **Customer Segmentation** (40 marks)\n",
    "    - Note: For the purpose of this assignment do not standarise the data\n",
    "    - Choose the optimal number of customer segments/clusters using one of the methods discussed in lectures\n",
    "    - After having identified the number of clusters, estimate the clusters using two different clustering techniques\n",
    "    - Interpret each of the identified clusters (for both clustering techniques) in terms of customer attributes \n",
    "        - E.g. there may be a cluster of university educated females living in a mid-sized city\n",
    "    - Compare and try to match the customer segments identified by the two techniques\n",
    "4. **Recommendations** (20 marks)\n",
    "    - Suggest marketing techniques that could be used to target customer segements you identified \n",
    "5. **Conclusion** (10 marks)\n",
    "    - A brief summary of what you have done in the report\n",
    "6. **Word count** \n",
    "    - Include the word count of your document\n",
    "    \n",
    "<hr style=\"width:35%;margin-left:0;\"> \n",
    "\n",
    "## Submission   \n",
    "You will need to submit two files:   \n",
    "\n",
    "1. One PDF document containing your report to be submitted to the management. The report should be self-contained and include all relevant tables/graphs that you generated using the submitted Jupyter notebook. I recommend writing the report in Word, and then saving it as a PDF file which will be submitted.\n",
    "2. Your Jupyter Notebook containing Python code used in your analysis. Make sure your code is clean, easy to understand, and can produce all the output included in the report.  "
   ]
  },
  {
   "cell_type": "markdown",
   "metadata": {},
   "source": [
    "### 2. Exploratory Data Analysis\n",
    "We visualize to better understand the distribution and relationship among variables."
   ]
  },
  {
   "cell_type": "code",
   "execution_count": 1,
   "metadata": {},
   "outputs": [
    {
     "data": {
      "text/html": [
       "<div>\n",
       "<style scoped>\n",
       "    .dataframe tbody tr th:only-of-type {\n",
       "        vertical-align: middle;\n",
       "    }\n",
       "\n",
       "    .dataframe tbody tr th {\n",
       "        vertical-align: top;\n",
       "    }\n",
       "\n",
       "    .dataframe thead th {\n",
       "        text-align: right;\n",
       "    }\n",
       "</style>\n",
       "<table border=\"1\" class=\"dataframe\">\n",
       "  <thead>\n",
       "    <tr style=\"text-align: right;\">\n",
       "      <th></th>\n",
       "      <th>ID</th>\n",
       "      <th>Sex</th>\n",
       "      <th>Marital status</th>\n",
       "      <th>Age</th>\n",
       "      <th>Education</th>\n",
       "      <th>Income</th>\n",
       "      <th>Occupation</th>\n",
       "      <th>Settlement size</th>\n",
       "    </tr>\n",
       "  </thead>\n",
       "  <tbody>\n",
       "    <tr>\n",
       "      <th>0</th>\n",
       "      <td>100000001</td>\n",
       "      <td>0</td>\n",
       "      <td>0</td>\n",
       "      <td>67</td>\n",
       "      <td>2</td>\n",
       "      <td>124670</td>\n",
       "      <td>1</td>\n",
       "      <td>2</td>\n",
       "    </tr>\n",
       "    <tr>\n",
       "      <th>1</th>\n",
       "      <td>100000002</td>\n",
       "      <td>1</td>\n",
       "      <td>1</td>\n",
       "      <td>22</td>\n",
       "      <td>1</td>\n",
       "      <td>150773</td>\n",
       "      <td>1</td>\n",
       "      <td>2</td>\n",
       "    </tr>\n",
       "    <tr>\n",
       "      <th>2</th>\n",
       "      <td>100000003</td>\n",
       "      <td>0</td>\n",
       "      <td>0</td>\n",
       "      <td>49</td>\n",
       "      <td>1</td>\n",
       "      <td>89210</td>\n",
       "      <td>0</td>\n",
       "      <td>0</td>\n",
       "    </tr>\n",
       "    <tr>\n",
       "      <th>3</th>\n",
       "      <td>100000004</td>\n",
       "      <td>0</td>\n",
       "      <td>0</td>\n",
       "      <td>45</td>\n",
       "      <td>1</td>\n",
       "      <td>171565</td>\n",
       "      <td>1</td>\n",
       "      <td>1</td>\n",
       "    </tr>\n",
       "    <tr>\n",
       "      <th>4</th>\n",
       "      <td>100000005</td>\n",
       "      <td>0</td>\n",
       "      <td>0</td>\n",
       "      <td>53</td>\n",
       "      <td>1</td>\n",
       "      <td>149031</td>\n",
       "      <td>1</td>\n",
       "      <td>1</td>\n",
       "    </tr>\n",
       "  </tbody>\n",
       "</table>\n",
       "</div>"
      ],
      "text/plain": [
       "          ID  Sex  Marital status  Age  Education  Income  Occupation  \\\n",
       "0  100000001    0               0   67          2  124670           1   \n",
       "1  100000002    1               1   22          1  150773           1   \n",
       "2  100000003    0               0   49          1   89210           0   \n",
       "3  100000004    0               0   45          1  171565           1   \n",
       "4  100000005    0               0   53          1  149031           1   \n",
       "\n",
       "   Settlement size  \n",
       "0                2  \n",
       "1                2  \n",
       "2                0  \n",
       "3                1  \n",
       "4                1  "
      ]
     },
     "execution_count": 1,
     "metadata": {},
     "output_type": "execute_result"
    }
   ],
   "source": [
    "import pandas as pd\n",
    "\n",
    "data = pd.read_csv('data/data.csv')\n",
    "data.head()"
   ]
  },
  {
   "cell_type": "code",
   "execution_count": 2,
   "metadata": {},
   "outputs": [
    {
     "data": {
      "text/html": [
       "<div>\n",
       "<style scoped>\n",
       "    .dataframe tbody tr th:only-of-type {\n",
       "        vertical-align: middle;\n",
       "    }\n",
       "\n",
       "    .dataframe tbody tr th {\n",
       "        vertical-align: top;\n",
       "    }\n",
       "\n",
       "    .dataframe thead th {\n",
       "        text-align: right;\n",
       "    }\n",
       "</style>\n",
       "<table border=\"1\" class=\"dataframe\">\n",
       "  <thead>\n",
       "    <tr style=\"text-align: right;\">\n",
       "      <th></th>\n",
       "      <th>Variable</th>\n",
       "      <th>Data type</th>\n",
       "      <th>Range</th>\n",
       "      <th>Description</th>\n",
       "      <th>Unnamed: 4</th>\n",
       "    </tr>\n",
       "  </thead>\n",
       "  <tbody>\n",
       "    <tr>\n",
       "      <th>0</th>\n",
       "      <td>ID</td>\n",
       "      <td>numerical</td>\n",
       "      <td>Integer</td>\n",
       "      <td>Shows a unique identificator of a customer.</td>\n",
       "      <td>NaN</td>\n",
       "    </tr>\n",
       "    <tr>\n",
       "      <th>1</th>\n",
       "      <td>NaN</td>\n",
       "      <td>NaN</td>\n",
       "      <td>NaN</td>\n",
       "      <td>NaN</td>\n",
       "      <td>NaN</td>\n",
       "    </tr>\n",
       "    <tr>\n",
       "      <th>2</th>\n",
       "      <td>Sex</td>\n",
       "      <td>categorical</td>\n",
       "      <td>{0,1}</td>\n",
       "      <td>Biological sex (gender) of a customer. In this...</td>\n",
       "      <td>NaN</td>\n",
       "    </tr>\n",
       "    <tr>\n",
       "      <th>3</th>\n",
       "      <td>NaN</td>\n",
       "      <td>NaN</td>\n",
       "      <td>0</td>\n",
       "      <td>male</td>\n",
       "      <td>NaN</td>\n",
       "    </tr>\n",
       "    <tr>\n",
       "      <th>4</th>\n",
       "      <td>NaN</td>\n",
       "      <td>NaN</td>\n",
       "      <td>1</td>\n",
       "      <td>female</td>\n",
       "      <td>NaN</td>\n",
       "    </tr>\n",
       "  </tbody>\n",
       "</table>\n",
       "</div>"
      ],
      "text/plain": [
       "  Variable    Data type    Range  \\\n",
       "0       ID    numerical  Integer   \n",
       "1      NaN          NaN      NaN   \n",
       "2      Sex  categorical    {0,1}   \n",
       "3      NaN          NaN        0   \n",
       "4      NaN          NaN        1   \n",
       "\n",
       "                                         Description  Unnamed: 4  \n",
       "0        Shows a unique identificator of a customer.         NaN  \n",
       "1                                                NaN         NaN  \n",
       "2  Biological sex (gender) of a customer. In this...         NaN  \n",
       "3                                               male         NaN  \n",
       "4                                             female         NaN  "
      ]
     },
     "execution_count": 2,
     "metadata": {},
     "output_type": "execute_result"
    }
   ],
   "source": [
    "data_legend = pd.read_csv('data/data_legend.csv')\n",
    "data_legend.head()"
   ]
  },
  {
   "cell_type": "code",
   "execution_count": 3,
   "metadata": {},
   "outputs": [
    {
     "data": {
      "text/plain": [
       "(               Age         Income\n",
       " count  2000.000000    2000.000000\n",
       " mean     35.909000  120954.419000\n",
       " std      11.719402   38108.824679\n",
       " min      18.000000   35832.000000\n",
       " 25%      27.000000   97663.250000\n",
       " 50%      33.000000  115548.500000\n",
       " 75%      42.000000  138072.250000\n",
       " max      76.000000  309364.000000,\n",
       " 0    1086\n",
       " 1     914\n",
       " Name: Sex Counts, dtype: int64,\n",
       " 0    1007\n",
       " 1     993\n",
       " Name: Marital status Counts, dtype: int64,\n",
       " 1    1386\n",
       " 2     291\n",
       " 0     287\n",
       " 3      36\n",
       " Name: Education Counts, dtype: int64,\n",
       " 1    1113\n",
       " 0     633\n",
       " 2     254\n",
       " Name: Occupation Counts, dtype: int64,\n",
       " 0    989\n",
       " 1    544\n",
       " 2    467\n",
       " Name: Settlement Size Counts, dtype: int64)"
      ]
     },
     "execution_count": 3,
     "metadata": {},
     "output_type": "execute_result"
    }
   ],
   "source": [
    "# Display summary statistics for numerical variables\n",
    "numerical_summary = data[['Age','Income']].describe()\n",
    "\n",
    "# Display counts for categorical variables\n",
    "sex_counts = data['Sex'].value_counts().rename(\"Sex Counts\")\n",
    "marital_status_counts = data['Marital status'].value_counts().rename(\"Marital status Counts\")\n",
    "education_counts = data['Education'].value_counts().rename(\"Education Counts\")\n",
    "occupation_counts = data['Occupation'].value_counts().rename(\"Occupation Counts\")\n",
    "settlement_counts = data['Settlement size'].value_counts().rename(\"Settlement Size Counts\")\n",
    "\n",
    "numerical_summary, sex_counts, marital_status_counts, education_counts, occupation_counts, settlement_counts"
   ]
  },
  {
   "cell_type": "code",
   "execution_count": 4,
   "metadata": {
    "scrolled": true
   },
   "outputs": [
    {
     "data": {
      "text/html": [
       "<div>\n",
       "<style scoped>\n",
       "    .dataframe tbody tr th:only-of-type {\n",
       "        vertical-align: middle;\n",
       "    }\n",
       "\n",
       "    .dataframe tbody tr th {\n",
       "        vertical-align: top;\n",
       "    }\n",
       "\n",
       "    .dataframe thead th {\n",
       "        text-align: right;\n",
       "    }\n",
       "</style>\n",
       "<table border=\"1\" class=\"dataframe\">\n",
       "  <thead>\n",
       "    <tr style=\"text-align: right;\">\n",
       "      <th></th>\n",
       "      <th>Age</th>\n",
       "      <th>Income</th>\n",
       "    </tr>\n",
       "  </thead>\n",
       "  <tbody>\n",
       "    <tr>\n",
       "      <th>count</th>\n",
       "      <td>2000.000000</td>\n",
       "      <td>2000.000000</td>\n",
       "    </tr>\n",
       "    <tr>\n",
       "      <th>mean</th>\n",
       "      <td>35.909000</td>\n",
       "      <td>120954.419000</td>\n",
       "    </tr>\n",
       "    <tr>\n",
       "      <th>std</th>\n",
       "      <td>11.719402</td>\n",
       "      <td>38108.824679</td>\n",
       "    </tr>\n",
       "    <tr>\n",
       "      <th>min</th>\n",
       "      <td>18.000000</td>\n",
       "      <td>35832.000000</td>\n",
       "    </tr>\n",
       "    <tr>\n",
       "      <th>25%</th>\n",
       "      <td>27.000000</td>\n",
       "      <td>97663.250000</td>\n",
       "    </tr>\n",
       "    <tr>\n",
       "      <th>50%</th>\n",
       "      <td>33.000000</td>\n",
       "      <td>115548.500000</td>\n",
       "    </tr>\n",
       "    <tr>\n",
       "      <th>75%</th>\n",
       "      <td>42.000000</td>\n",
       "      <td>138072.250000</td>\n",
       "    </tr>\n",
       "    <tr>\n",
       "      <th>max</th>\n",
       "      <td>76.000000</td>\n",
       "      <td>309364.000000</td>\n",
       "    </tr>\n",
       "  </tbody>\n",
       "</table>\n",
       "</div>"
      ],
      "text/plain": [
       "               Age         Income\n",
       "count  2000.000000    2000.000000\n",
       "mean     35.909000  120954.419000\n",
       "std      11.719402   38108.824679\n",
       "min      18.000000   35832.000000\n",
       "25%      27.000000   97663.250000\n",
       "50%      33.000000  115548.500000\n",
       "75%      42.000000  138072.250000\n",
       "max      76.000000  309364.000000"
      ]
     },
     "execution_count": 4,
     "metadata": {},
     "output_type": "execute_result"
    }
   ],
   "source": [
    "summary_statistics = data[['Age','Income']].describe()\n",
    "summary_statistics"
   ]
  },
  {
   "cell_type": "code",
   "execution_count": 5,
   "metadata": {},
   "outputs": [
    {
     "data": {
      "text/html": [
       "<div>\n",
       "<style scoped>\n",
       "    .dataframe tbody tr th:only-of-type {\n",
       "        vertical-align: middle;\n",
       "    }\n",
       "\n",
       "    .dataframe tbody tr th {\n",
       "        vertical-align: top;\n",
       "    }\n",
       "\n",
       "    .dataframe thead th {\n",
       "        text-align: right;\n",
       "    }\n",
       "</style>\n",
       "<table border=\"1\" class=\"dataframe\">\n",
       "  <thead>\n",
       "    <tr style=\"text-align: right;\">\n",
       "      <th></th>\n",
       "      <th>0</th>\n",
       "      <th>1</th>\n",
       "      <th>2</th>\n",
       "      <th>3</th>\n",
       "    </tr>\n",
       "  </thead>\n",
       "  <tbody>\n",
       "    <tr>\n",
       "      <th>Sex</th>\n",
       "      <td>1086.0</td>\n",
       "      <td>914.0</td>\n",
       "      <td>NaN</td>\n",
       "      <td>NaN</td>\n",
       "    </tr>\n",
       "    <tr>\n",
       "      <th>Marital Status</th>\n",
       "      <td>1007.0</td>\n",
       "      <td>993.0</td>\n",
       "      <td>NaN</td>\n",
       "      <td>NaN</td>\n",
       "    </tr>\n",
       "    <tr>\n",
       "      <th>Education</th>\n",
       "      <td>287.0</td>\n",
       "      <td>1386.0</td>\n",
       "      <td>291.0</td>\n",
       "      <td>36.0</td>\n",
       "    </tr>\n",
       "    <tr>\n",
       "      <th>Occupation</th>\n",
       "      <td>633.0</td>\n",
       "      <td>1113.0</td>\n",
       "      <td>254.0</td>\n",
       "      <td>NaN</td>\n",
       "    </tr>\n",
       "    <tr>\n",
       "      <th>Settlement Size</th>\n",
       "      <td>989.0</td>\n",
       "      <td>544.0</td>\n",
       "      <td>467.0</td>\n",
       "      <td>NaN</td>\n",
       "    </tr>\n",
       "  </tbody>\n",
       "</table>\n",
       "</div>"
      ],
      "text/plain": [
       "                      0       1      2     3\n",
       "Sex              1086.0   914.0    NaN   NaN\n",
       "Marital Status   1007.0   993.0    NaN   NaN\n",
       "Education         287.0  1386.0  291.0  36.0\n",
       "Occupation        633.0  1113.0  254.0   NaN\n",
       "Settlement Size   989.0   544.0  467.0   NaN"
      ]
     },
     "execution_count": 5,
     "metadata": {},
     "output_type": "execute_result"
    }
   ],
   "source": [
    "counts_df = pd.DataFrame({\n",
    "    'Sex': data['Sex'].value_counts(),\n",
    "    'Marital Status': data['Marital status'].value_counts(),\n",
    "    'Education': data['Education'].value_counts(),\n",
    "    'Occupation': data['Occupation'].value_counts(),\n",
    "    'Settlement Size': data['Settlement size'].value_counts()\n",
    "})\n",
    "\n",
    "counts_df_transposed = counts_df.transpose()\n",
    "\n",
    "counts_df_transposed"
   ]
  },
  {
   "cell_type": "code",
   "execution_count": 6,
   "metadata": {},
   "outputs": [
    {
     "data": {
      "image/png": "[encoded data removed]",
      "text/plain": [
       "<Figure size 1296x1080 with 2 Axes>"
      ]
     },
     "metadata": {
      "needs_background": "light"
     },
     "output_type": "display_data"
    }
   ],
   "source": [
    "import matplotlib.pyplot as plt\n",
    "import seaborn as sns\n",
    "\n",
    "\n",
    "plt.figure(figsize=(18, 15))\n",
    "\n",
    "# Age distribution\n",
    "plt.subplot(3, 3, 1)\n",
    "sns.histplot(data['Age'], bins=20, kde=True)\n",
    "plt.title('Distribution of Age')\n",
    "\n",
    "# Income distribution\n",
    "plt.subplot(3, 3, 2)\n",
    "sns.histplot(data['Income'], bins=20, kde=True)\n",
    "plt.title('Distribution of Income')\n",
    "\n",
    "\n",
    "plt.tight_layout()\n",
    "plt.show()\n"
   ]
  },
  {
   "cell_type": "code",
   "execution_count": 7,
   "metadata": {},
   "outputs": [
    {
     "data": {
      "image/png": "[encoded data removed]",
      "text/plain": [
       "<Figure size 1296x1080 with 5 Axes>"
      ]
     },
     "metadata": {
      "needs_background": "light"
     },
     "output_type": "display_data"
    }
   ],
   "source": [
    "plt.figure(figsize=(18, 15))\n",
    "\n",
    "# Sex distribution\n",
    "plt.subplot(3, 3, 1)\n",
    "sns.countplot(data=data, x='Sex')\n",
    "plt.title('Distribution of Sex')\n",
    "plt.xticks(ticks=[0, 1], labels=['Male', 'Female'])\n",
    "\n",
    "# Marital status distribution\n",
    "plt.subplot(3, 3, 2)\n",
    "sns.countplot(data=data, x='Marital status')\n",
    "plt.title('Distribution of Marital Status')\n",
    "plt.xticks(ticks=[0, 1], labels=['Single', 'Non-single'])\n",
    "\n",
    "# Education distribution\n",
    "plt.subplot(3, 3, 3)\n",
    "sns.countplot(data=data, x='Education')\n",
    "plt.title('Distribution of Education Levels')\n",
    "plt.xticks(ticks=[0, 1, 2, 3], labels=['Other/Unknown', 'High School', 'University', 'Graduate School'])\n",
    "\n",
    "# Occupation distribution\n",
    "plt.subplot(3, 3, 4)\n",
    "sns.countplot(data=data, x='Occupation')\n",
    "plt.title('Distribution of Occupation Categories')\n",
    "plt.xticks(ticks=[0, 1, 2], labels=['Unemployed/Unskilled', 'Skilled', 'Management'])\n",
    "\n",
    "# Settlement Size distribution\n",
    "plt.subplot(3, 3, 5)\n",
    "sns.countplot(data=data, x='Settlement size')\n",
    "plt.title('Distribution of Settlement Sizes')\n",
    "plt.xticks(ticks=[0, 1, 2], labels=['Small city', 'Mid-sized city', 'Big city'])\n",
    "\n",
    "plt.tight_layout()\n",
    "plt.show()"
   ]
  },
  {
   "cell_type": "markdown",
   "metadata": {},
   "source": [
    "### 3. Customer segmentation"
   ]
  },
  {
   "cell_type": "markdown",
   "metadata": {},
   "source": [
    "#### 3.1. Find the optimal number of clusters:\n",
    "\n",
    "We will use the Elbow Method to determine the optimal number of clusters (customer segments). "
   ]
  },
  {
   "cell_type": "code",
   "execution_count": 8,
   "metadata": {},
   "outputs": [
    {
     "data": {
      "image/png": "[encoded data removed]",
      "text/plain": [
       "<Figure size 720x360 with 1 Axes>"
      ]
     },
     "metadata": {
      "needs_background": "light"
     },
     "output_type": "display_data"
    }
   ],
   "source": [
    "from sklearn.cluster import KMeans\n",
    "\n",
    "# Remove the 'ID' column as it's just an identifier\n",
    "data_clustering = data.drop('ID', axis=1)\n",
    "\n",
    "# Calculate WCSS values for 1 to 10 clusters\n",
    "wcss = []\n",
    "for i in range(1, 11):\n",
    "    kmeans = KMeans(n_clusters=i, init='k-means++', random_state=42)\n",
    "    kmeans.fit(data_clustering)\n",
    "    wcss.append(kmeans.inertia_)\n",
    "\n",
    "# Plot the Elbow Method graph\n",
    "plt.figure(figsize=(10, 5))\n",
    "plt.plot(range(1, 11), wcss, marker='o')\n",
    "plt.title('Elbow Method')\n",
    "plt.xlabel('Number of clusters')\n",
    "plt.ylabel('Within-Cluster SSE')\n",
    "plt.grid(True) \n",
    "plt.show()\n"
   ]
  },
  {
   "cell_type": "markdown",
   "metadata": {},
   "source": [
    "From the Elbow method chart above, we choose the potential optimal number of clusters is 3."
   ]
  },
  {
   "cell_type": "markdown",
   "metadata": {},
   "source": [
    "#### 3.2. Estimate Clusters:\n",
    "We will use two clustering techniques: KMeans and Agglomerative Hierarchical Clustering to estimate the clusters."
   ]
  },
  {
   "cell_type": "markdown",
   "metadata": {},
   "source": [
    "###### 3.2.1. Kmeans Clustering:"
   ]
  },
  {
   "cell_type": "markdown",
   "metadata": {},
   "source": [
    "First of all, we exclude the ID column and group the data into 3 clusters using KMeans clustering."
   ]
  },
  {
   "cell_type": "code",
   "execution_count": 9,
   "metadata": {},
   "outputs": [
    {
     "data": {
      "text/plain": [
       "0    898\n",
       "1    889\n",
       "2    213\n",
       "Name: KMeans_Cluster, dtype: int64"
      ]
     },
     "execution_count": 9,
     "metadata": {},
     "output_type": "execute_result"
    }
   ],
   "source": [
    "import pandas as pd\n",
    "from sklearn.cluster import KMeans\n",
    "\n",
    "# Drop 'ID' column:\n",
    "data_clustering = data.drop('ID', axis=1)\n",
    "\n",
    "# Perform KMeans clustering to identify 3 clusters\n",
    "kmeans = KMeans(n_clusters=3, init='k-means++', random_state=42)\n",
    "data_clustering['KMeans_Cluster'] = kmeans.fit_predict(data_clustering)\n",
    "\n",
    "# Check the size of each cluster:\n",
    "data_clustering['KMeans_Cluster'].value_counts()"
   ]
  },
  {
   "cell_type": "code",
   "execution_count": 10,
   "metadata": {},
   "outputs": [
    {
     "data": {
      "text/plain": [
       "Sex                     0.4570\n",
       "Marital status          0.4965\n",
       "Age                    35.9090\n",
       "Education               1.0380\n",
       "Income             120954.4190\n",
       "Occupation              0.8105\n",
       "Settlement size         0.7390\n",
       "KMeans_Cluster          0.6575\n",
       "dtype: float64"
      ]
     },
     "execution_count": 10,
     "metadata": {},
     "output_type": "execute_result"
    }
   ],
   "source": [
    "# Compute the overall mean values of the dataset\n",
    "overall_means = data_clustering.mean()\n",
    "\n",
    "overall_means"
   ]
  },
  {
   "cell_type": "code",
   "execution_count": 11,
   "metadata": {},
   "outputs": [
    {
     "data": {
      "text/html": [
       "<div>\n",
       "<style scoped>\n",
       "    .dataframe tbody tr th:only-of-type {\n",
       "        vertical-align: middle;\n",
       "    }\n",
       "\n",
       "    .dataframe tbody tr th {\n",
       "        vertical-align: top;\n",
       "    }\n",
       "\n",
       "    .dataframe thead th {\n",
       "        text-align: right;\n",
       "    }\n",
       "</style>\n",
       "<table border=\"1\" class=\"dataframe\">\n",
       "  <thead>\n",
       "    <tr style=\"text-align: right;\">\n",
       "      <th></th>\n",
       "      <th>Sex</th>\n",
       "      <th>Marital status</th>\n",
       "      <th>Age</th>\n",
       "      <th>Education</th>\n",
       "      <th>Income</th>\n",
       "      <th>Occupation</th>\n",
       "      <th>Settlement size</th>\n",
       "    </tr>\n",
       "    <tr>\n",
       "      <th>KMeans_Cluster</th>\n",
       "      <th></th>\n",
       "      <th></th>\n",
       "      <th></th>\n",
       "      <th></th>\n",
       "      <th></th>\n",
       "      <th></th>\n",
       "      <th></th>\n",
       "    </tr>\n",
       "  </thead>\n",
       "  <tbody>\n",
       "    <tr>\n",
       "      <th>0</th>\n",
       "      <td>0.384187</td>\n",
       "      <td>0.447661</td>\n",
       "      <td>37.927617</td>\n",
       "      <td>1.079065</td>\n",
       "      <td>132162.346325</td>\n",
       "      <td>0.998886</td>\n",
       "      <td>0.954343</td>\n",
       "    </tr>\n",
       "    <tr>\n",
       "      <th>1</th>\n",
       "      <td>0.569179</td>\n",
       "      <td>0.554556</td>\n",
       "      <td>31.947132</td>\n",
       "      <td>0.920135</td>\n",
       "      <td>90836.787402</td>\n",
       "      <td>0.433071</td>\n",
       "      <td>0.368954</td>\n",
       "    </tr>\n",
       "    <tr>\n",
       "      <th>2</th>\n",
       "      <td>0.295775</td>\n",
       "      <td>0.460094</td>\n",
       "      <td>43.934272</td>\n",
       "      <td>1.356808</td>\n",
       "      <td>199404.446009</td>\n",
       "      <td>1.591549</td>\n",
       "      <td>1.375587</td>\n",
       "    </tr>\n",
       "  </tbody>\n",
       "</table>\n",
       "</div>"
      ],
      "text/plain": [
       "                     Sex  Marital status        Age  Education         Income  \\\n",
       "KMeans_Cluster                                                                  \n",
       "0               0.384187        0.447661  37.927617   1.079065  132162.346325   \n",
       "1               0.569179        0.554556  31.947132   0.920135   90836.787402   \n",
       "2               0.295775        0.460094  43.934272   1.356808  199404.446009   \n",
       "\n",
       "                Occupation  Settlement size  \n",
       "KMeans_Cluster                               \n",
       "0                 0.998886         0.954343  \n",
       "1                 0.433071         0.368954  \n",
       "2                 1.591549         1.375587  "
      ]
     },
     "metadata": {},
     "output_type": "display_data"
    }
   ],
   "source": [
    "from IPython.display import display\n",
    "import pandas as pd\n",
    "# Compute the mean values of each feature for every cluster to understand their characteristics:\n",
    "kmeans_centroids = data_clustering.groupby('KMeans_Cluster').mean()\n",
    "display(kmeans_centroids)"
   ]
  },
  {
   "cell_type": "markdown",
   "metadata": {},
   "source": [
    "##### 3.2.2. Agglomerative Hierarchical Clustering technique:"
   ]
  },
  {
   "cell_type": "code",
   "execution_count": 14,
   "metadata": {},
   "outputs": [
    {
     "data": {
      "text/plain": [
       "0    1399\n",
       "2     491\n",
       "1     110\n",
       "Name: Agg_Cluster, dtype: int64"
      ]
     },
     "execution_count": 14,
     "metadata": {},
     "output_type": "execute_result"
    }
   ],
   "source": [
    "from scipy.cluster.hierarchy import linkage\n",
    "from sklearn.cluster import AgglomerativeClustering\n",
    "\n",
    "# Apply Agglomerative Hierarchical Clustering on the entire dataset\n",
    "agg_clustering = AgglomerativeClustering(n_clusters=3, affinity='euclidean', linkage='ward')\n",
    "data_clustering['Agg_Cluster'] = agg_clustering.fit_predict(data_clustering)\n",
    "\n",
    "# Check the size of each cluster:\n",
    "data_clustering['Agg_Cluster'].value_counts()"
   ]
  },
  {
   "cell_type": "code",
   "execution_count": 23,
   "metadata": {},
   "outputs": [],
   "source": [
    "\n",
    "# Compute summary statistics for the numerical variables within each cluster \n",
    "\n",
    "# Mean\n",
    "agg_cluster_means = data_clustering.groupby('Agg_Cluster').mean()\n",
    "\n",
    "# Median\n",
    "agg_cluster_medians = data_clustering.groupby('Agg_Cluster').median()\n",
    "\n",
    "# Mode\n",
    "agg_cluster_modes = data_clustering.groupby('Agg_Cluster').agg(lambda x: x.mode().iloc[0])"
   ]
  },
  {
   "cell_type": "code",
   "execution_count": 24,
   "metadata": {},
   "outputs": [
    {
     "data": {
      "text/html": [
       "<div>\n",
       "<style scoped>\n",
       "    .dataframe tbody tr th:only-of-type {\n",
       "        vertical-align: middle;\n",
       "    }\n",
       "\n",
       "    .dataframe tbody tr th {\n",
       "        vertical-align: top;\n",
       "    }\n",
       "\n",
       "    .dataframe thead th {\n",
       "        text-align: right;\n",
       "    }\n",
       "</style>\n",
       "<table border=\"1\" class=\"dataframe\">\n",
       "  <thead>\n",
       "    <tr style=\"text-align: right;\">\n",
       "      <th></th>\n",
       "      <th>Sex</th>\n",
       "      <th>Marital status</th>\n",
       "      <th>Age</th>\n",
       "      <th>Education</th>\n",
       "      <th>Income</th>\n",
       "      <th>Occupation</th>\n",
       "      <th>Settlement size</th>\n",
       "      <th>KMeans_Cluster</th>\n",
       "    </tr>\n",
       "    <tr>\n",
       "      <th>Agg_Cluster</th>\n",
       "      <th></th>\n",
       "      <th></th>\n",
       "      <th></th>\n",
       "      <th></th>\n",
       "      <th></th>\n",
       "      <th></th>\n",
       "      <th></th>\n",
       "      <th></th>\n",
       "    </tr>\n",
       "  </thead>\n",
       "  <tbody>\n",
       "    <tr>\n",
       "      <th>0</th>\n",
       "      <td>0.521086</td>\n",
       "      <td>0.521801</td>\n",
       "      <td>33.533238</td>\n",
       "      <td>0.959257</td>\n",
       "      <td>101944.944246</td>\n",
       "      <td>0.590422</td>\n",
       "      <td>0.515368</td>\n",
       "      <td>0.635454</td>\n",
       "    </tr>\n",
       "    <tr>\n",
       "      <th>1</th>\n",
       "      <td>0.290909</td>\n",
       "      <td>0.400000</td>\n",
       "      <td>44.727273</td>\n",
       "      <td>1.345455</td>\n",
       "      <td>223444.563636</td>\n",
       "      <td>1.745455</td>\n",
       "      <td>1.454545</td>\n",
       "      <td>2.000000</td>\n",
       "    </tr>\n",
       "    <tr>\n",
       "      <th>2</th>\n",
       "      <td>0.311609</td>\n",
       "      <td>0.446029</td>\n",
       "      <td>40.702648</td>\n",
       "      <td>1.193483</td>\n",
       "      <td>152156.739308</td>\n",
       "      <td>1.228106</td>\n",
       "      <td>1.215886</td>\n",
       "      <td>0.419552</td>\n",
       "    </tr>\n",
       "  </tbody>\n",
       "</table>\n",
       "</div>"
      ],
      "text/plain": [
       "                  Sex  Marital status        Age  Education         Income  \\\n",
       "Agg_Cluster                                                                  \n",
       "0            0.521086        0.521801  33.533238   0.959257  101944.944246   \n",
       "1            0.290909        0.400000  44.727273   1.345455  223444.563636   \n",
       "2            0.311609        0.446029  40.702648   1.193483  152156.739308   \n",
       "\n",
       "             Occupation  Settlement size  KMeans_Cluster  \n",
       "Agg_Cluster                                               \n",
       "0              0.590422         0.515368        0.635454  \n",
       "1              1.745455         1.454545        2.000000  \n",
       "2              1.228106         1.215886        0.419552  "
      ]
     },
     "metadata": {},
     "output_type": "display_data"
    }
   ],
   "source": [
    "display(agg_cluster_means)"
   ]
  },
  {
   "cell_type": "code",
   "execution_count": 25,
   "metadata": {},
   "outputs": [
    {
     "data": {
      "text/html": [
       "<div>\n",
       "<style scoped>\n",
       "    .dataframe tbody tr th:only-of-type {\n",
       "        vertical-align: middle;\n",
       "    }\n",
       "\n",
       "    .dataframe tbody tr th {\n",
       "        vertical-align: top;\n",
       "    }\n",
       "\n",
       "    .dataframe thead th {\n",
       "        text-align: right;\n",
       "    }\n",
       "</style>\n",
       "<table border=\"1\" class=\"dataframe\">\n",
       "  <thead>\n",
       "    <tr style=\"text-align: right;\">\n",
       "      <th></th>\n",
       "      <th>Sex</th>\n",
       "      <th>Marital status</th>\n",
       "      <th>Age</th>\n",
       "      <th>Education</th>\n",
       "      <th>Income</th>\n",
       "      <th>Occupation</th>\n",
       "      <th>Settlement size</th>\n",
       "      <th>KMeans_Cluster</th>\n",
       "    </tr>\n",
       "    <tr>\n",
       "      <th>Agg_Cluster</th>\n",
       "      <th></th>\n",
       "      <th></th>\n",
       "      <th></th>\n",
       "      <th></th>\n",
       "      <th></th>\n",
       "      <th></th>\n",
       "      <th></th>\n",
       "      <th></th>\n",
       "    </tr>\n",
       "  </thead>\n",
       "  <tbody>\n",
       "    <tr>\n",
       "      <th>0</th>\n",
       "      <td>1.0</td>\n",
       "      <td>1.0</td>\n",
       "      <td>31.0</td>\n",
       "      <td>1.0</td>\n",
       "      <td>106043.0</td>\n",
       "      <td>1.0</td>\n",
       "      <td>0.0</td>\n",
       "      <td>1.0</td>\n",
       "    </tr>\n",
       "    <tr>\n",
       "      <th>1</th>\n",
       "      <td>0.0</td>\n",
       "      <td>0.0</td>\n",
       "      <td>43.0</td>\n",
       "      <td>1.0</td>\n",
       "      <td>214364.0</td>\n",
       "      <td>2.0</td>\n",
       "      <td>2.0</td>\n",
       "      <td>2.0</td>\n",
       "    </tr>\n",
       "    <tr>\n",
       "      <th>2</th>\n",
       "      <td>0.0</td>\n",
       "      <td>0.0</td>\n",
       "      <td>37.0</td>\n",
       "      <td>1.0</td>\n",
       "      <td>149653.0</td>\n",
       "      <td>1.0</td>\n",
       "      <td>1.0</td>\n",
       "      <td>0.0</td>\n",
       "    </tr>\n",
       "  </tbody>\n",
       "</table>\n",
       "</div>"
      ],
      "text/plain": [
       "             Sex  Marital status   Age  Education    Income  Occupation  \\\n",
       "Agg_Cluster                                                               \n",
       "0            1.0             1.0  31.0        1.0  106043.0         1.0   \n",
       "1            0.0             0.0  43.0        1.0  214364.0         2.0   \n",
       "2            0.0             0.0  37.0        1.0  149653.0         1.0   \n",
       "\n",
       "             Settlement size  KMeans_Cluster  \n",
       "Agg_Cluster                                   \n",
       "0                        0.0             1.0  \n",
       "1                        2.0             2.0  \n",
       "2                        1.0             0.0  "
      ]
     },
     "metadata": {},
     "output_type": "display_data"
    }
   ],
   "source": [
    "display(agg_cluster_medians)"
   ]
  },
  {
   "cell_type": "code",
   "execution_count": 26,
   "metadata": {},
   "outputs": [
    {
     "data": {
      "text/html": [
       "<div>\n",
       "<style scoped>\n",
       "    .dataframe tbody tr th:only-of-type {\n",
       "        vertical-align: middle;\n",
       "    }\n",
       "\n",
       "    .dataframe tbody tr th {\n",
       "        vertical-align: top;\n",
       "    }\n",
       "\n",
       "    .dataframe thead th {\n",
       "        text-align: right;\n",
       "    }\n",
       "</style>\n",
       "<table border=\"1\" class=\"dataframe\">\n",
       "  <thead>\n",
       "    <tr style=\"text-align: right;\">\n",
       "      <th></th>\n",
       "      <th>Sex</th>\n",
       "      <th>Marital status</th>\n",
       "      <th>Age</th>\n",
       "      <th>Education</th>\n",
       "      <th>Income</th>\n",
       "      <th>Occupation</th>\n",
       "      <th>Settlement size</th>\n",
       "      <th>KMeans_Cluster</th>\n",
       "    </tr>\n",
       "    <tr>\n",
       "      <th>Agg_Cluster</th>\n",
       "      <th></th>\n",
       "      <th></th>\n",
       "      <th></th>\n",
       "      <th></th>\n",
       "      <th></th>\n",
       "      <th></th>\n",
       "      <th></th>\n",
       "      <th></th>\n",
       "    </tr>\n",
       "  </thead>\n",
       "  <tbody>\n",
       "    <tr>\n",
       "      <th>0</th>\n",
       "      <td>1</td>\n",
       "      <td>1</td>\n",
       "      <td>26</td>\n",
       "      <td>1</td>\n",
       "      <td>69487</td>\n",
       "      <td>1</td>\n",
       "      <td>0</td>\n",
       "      <td>1</td>\n",
       "    </tr>\n",
       "    <tr>\n",
       "      <th>1</th>\n",
       "      <td>0</td>\n",
       "      <td>0</td>\n",
       "      <td>42</td>\n",
       "      <td>2</td>\n",
       "      <td>214364</td>\n",
       "      <td>2</td>\n",
       "      <td>2</td>\n",
       "      <td>2</td>\n",
       "    </tr>\n",
       "    <tr>\n",
       "      <th>2</th>\n",
       "      <td>0</td>\n",
       "      <td>0</td>\n",
       "      <td>30</td>\n",
       "      <td>1</td>\n",
       "      <td>133328</td>\n",
       "      <td>1</td>\n",
       "      <td>1</td>\n",
       "      <td>0</td>\n",
       "    </tr>\n",
       "  </tbody>\n",
       "</table>\n",
       "</div>"
      ],
      "text/plain": [
       "             Sex  Marital status  Age  Education  Income  Occupation  \\\n",
       "Agg_Cluster                                                            \n",
       "0              1               1   26          1   69487           1   \n",
       "1              0               0   42          2  214364           2   \n",
       "2              0               0   30          1  133328           1   \n",
       "\n",
       "             Settlement size  KMeans_Cluster  \n",
       "Agg_Cluster                                   \n",
       "0                          0               1  \n",
       "1                          2               2  \n",
       "2                          1               0  "
      ]
     },
     "metadata": {},
     "output_type": "display_data"
    }
   ],
   "source": [
    "display(agg_cluster_modes)"
   ]
  }
 ],
 "metadata": {
  "kernelspec": {
   "display_name": "Python 3 (ipykernel)",
   "language": "python",
   "name": "python3"
  },
  "language_info": {
   "codemirror_mode": {
    "name": "ipython",
    "version": 3
   },
   "file_extension": ".py",
   "mimetype": "text/x-python",
   "name": "python",
   "nbconvert_exporter": "python",
   "pygments_lexer": "ipython3",
   "version": "3.9.12"
  }
 },
 "nbformat": 4,
 "nbformat_minor": 4
}
